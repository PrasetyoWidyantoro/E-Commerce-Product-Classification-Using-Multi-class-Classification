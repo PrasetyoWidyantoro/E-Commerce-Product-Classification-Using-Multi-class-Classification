{
 "cells": [
  {
   "cell_type": "markdown",
   "id": "f258fc6a-9510-47c4-9230-3feac5358a4a",
   "metadata": {},
   "source": [
    "## Bahan untuk Code"
   ]
  },
  {
   "cell_type": "markdown",
   "id": "26473ee6-c80a-482d-9de1-a4b46fbc5d52",
   "metadata": {},
   "source": [
    "# Data Preparation"
   ]
  },
  {
   "cell_type": "markdown",
   "id": "763d7171-876e-4f87-8830-cc49aa7e80ca",
   "metadata": {},
   "source": [
    "`E-Commerce Product Classification` ini bertujuan untuk memprediksi kategori produk yang paling sesuai dengan setiap produk yang diunggah ke platform e-commerce. Dalam hal ini, kita menghadapi tantangan untuk memastikan bahwa produk diklasifikasikan ke dalam kategori yang benar-benar sesuai dengan fitur-fiturnya.\n",
    "\n",
    "Dalam bisnis e-commerce, klasifikasi produk yang akurat sangat penting untuk meningkatkan pengalaman pengguna dan efektivitas operasional. Salah satu perhatian utama adalah memastikan bahwa setiap produk diklasifikasikan ke dalam kategori yang paling relevan. Oleh karena itu, kita lebih mengutamakan metrik bisnis yang mirip dengan yang digunakan dalam prediksi churn, yaitu Recall.\n",
    "\n",
    "Dalam konteks ini, metrik bisnis Recall berfokus pada kemampuan model untuk mengidentifikasi dan mengklasifikasikan produk ke dalam kategori yang sebenarnya sesuai, bahkan jika produk memiliki fitur yang kompleks atau karakteristik yang ambigu. Dengan mengutamakan Recall, kita berusaha untuk meminimalkan kesalahan prediksi yang mengarah pada produk yang seharusnya termasuk dalam suatu kategori namun salah diklasifikasikan.\n",
    "\n",
    "Tentu saja, ada trade-off yang perlu diperhatikan, yaitu kemungkinan meningkatnya jumlah False Positive (produk yang salah diklasifikasikan ke dalam kategori tertentu). Namun, dalam konteks ini, kesalahan ini dianggap lebih dapat diterima daripada kesalahan False Negative, di mana produk yang seharusnya termasuk dalam suatu kategori tidak terklasifikasikan dengan benar.\n",
    "\n",
    "Dengan mengutamakan metrik bisnis Recall dalam `E-Commerce Product Classification` ini, kita berharap untuk meningkatkan akurasi dalam mengkategorikan produk, yang pada gilirannya akan meningkatkan pengalaman pengguna dan efisiensi operasional bisnis e-commerce secara keseluruhan. Metrik ini membantu kita mendeteksi dan mencegah produk yang benar-benar sesuai dengan suatu kategori (kasus positif) lebih efisien daripada mengkhawatirkan tentang produk yang salah diklasifikasikan ke dalam kategori tertentu (kasus negatif).\""
   ]
  },
  {
   "cell_type": "markdown",
   "id": "b976de37-bd12-444a-93b4-b0bd98cd1764",
   "metadata": {},
   "source": [
    "# Importasi Library"
   ]
  },
  {
   "cell_type": "code",
   "execution_count": 1,
   "id": "a3e2b625-be2a-48dd-9e95-78c162b4feb5",
   "metadata": {},
   "outputs": [],
   "source": [
    "#Import library untuk data preparation dan visualization\n",
    "import numpy as np\n",
    "import pandas as pd\n",
    "import matplotlib.pyplot as plt\n",
    "import seaborn as sns\n",
    "\n",
    "# import warnings for ignore the warnings\n",
    "import warnings \n",
    "warnings.filterwarnings(\"ignore\")\n",
    "\n",
    "# import pickle and json file for columns and model file\n",
    "import pickle\n",
    "import json\n",
    "import joblib\n",
    "import copy\n",
    "\n",
    "# Import train test split untuk splitting data\n",
    "from sklearn.model_selection import train_test_split\n",
    "import yaml\n",
    "from tqdm import tqdm\n",
    "import os"
   ]
  },
  {
   "cell_type": "code",
   "execution_count": 2,
   "id": "2a3f251b-5a83-48a0-8731-a4097394b9c1",
   "metadata": {},
   "outputs": [],
   "source": [
    "ecommerce_data = pd.read_csv(\"dataset/1 - raw data/training_data.csv\")"
   ]
  },
  {
   "cell_type": "code",
   "execution_count": 3,
   "id": "0677059c-80f0-4961-96c9-b34758dfc821",
   "metadata": {},
   "outputs": [
    {
     "data": {
      "text/html": [
       "<div>\n",
       "<style scoped>\n",
       "    .dataframe tbody tr th:only-of-type {\n",
       "        vertical-align: middle;\n",
       "    }\n",
       "\n",
       "    .dataframe tbody tr th {\n",
       "        vertical-align: top;\n",
       "    }\n",
       "\n",
       "    .dataframe thead th {\n",
       "        text-align: right;\n",
       "    }\n",
       "</style>\n",
       "<table border=\"1\" class=\"dataframe\">\n",
       "  <thead>\n",
       "    <tr style=\"text-align: right;\">\n",
       "      <th></th>\n",
       "      <th>title</th>\n",
       "      <th>category</th>\n",
       "    </tr>\n",
       "  </thead>\n",
       "  <tbody>\n",
       "    <tr>\n",
       "      <th>0</th>\n",
       "      <td>The Three Amigos</td>\n",
       "      <td>None</td>\n",
       "    </tr>\n",
       "    <tr>\n",
       "      <th>1</th>\n",
       "      <td>Home Essentials Blue Floral Glass Vintage Styl...</td>\n",
       "      <td>Home &amp; Kitchen</td>\n",
       "    </tr>\n",
       "    <tr>\n",
       "      <th>2</th>\n",
       "      <td>Cooper Wiring Quiet Toggle Switch Single Pole ...</td>\n",
       "      <td>Tools &amp; Home Improvement</td>\n",
       "    </tr>\n",
       "    <tr>\n",
       "      <th>3</th>\n",
       "      <td>Baseboarders&amp;reg; Wall Brackets</td>\n",
       "      <td>Tools &amp; Home Improvement</td>\n",
       "    </tr>\n",
       "    <tr>\n",
       "      <th>4</th>\n",
       "      <td>The Great Wave Off Kanagawa Custom Rectangle M...</td>\n",
       "      <td>Office Products</td>\n",
       "    </tr>\n",
       "    <tr>\n",
       "      <th>...</th>\n",
       "      <td>...</td>\n",
       "      <td>...</td>\n",
       "    </tr>\n",
       "    <tr>\n",
       "      <th>20183</th>\n",
       "      <td>D0309-WML Leviton Decora Screwless Snap-On Wal...</td>\n",
       "      <td>None</td>\n",
       "    </tr>\n",
       "    <tr>\n",
       "      <th>20184</th>\n",
       "      <td>South Shore Axess Small 2-Door Storage Cabinet...</td>\n",
       "      <td>None</td>\n",
       "    </tr>\n",
       "    <tr>\n",
       "      <th>20185</th>\n",
       "      <td>Patriotic Flip Flop Ornament Assortment of 2</td>\n",
       "      <td>Home &amp; Kitchen</td>\n",
       "    </tr>\n",
       "    <tr>\n",
       "      <th>20186</th>\n",
       "      <td>Cybrtrayd Life of the Party A116 Horse Chocola...</td>\n",
       "      <td>None</td>\n",
       "    </tr>\n",
       "    <tr>\n",
       "      <th>20187</th>\n",
       "      <td>4 Light Track Lighting Wall &amp;amp; Ceiling Moun...</td>\n",
       "      <td>Tools &amp; Home Improvement</td>\n",
       "    </tr>\n",
       "  </tbody>\n",
       "</table>\n",
       "<p>20188 rows × 2 columns</p>\n",
       "</div>"
      ],
      "text/plain": [
       "                                                   title  \\\n",
       "0                                       The Three Amigos   \n",
       "1      Home Essentials Blue Floral Glass Vintage Styl...   \n",
       "2      Cooper Wiring Quiet Toggle Switch Single Pole ...   \n",
       "3                        Baseboarders&reg; Wall Brackets   \n",
       "4      The Great Wave Off Kanagawa Custom Rectangle M...   \n",
       "...                                                  ...   \n",
       "20183  D0309-WML Leviton Decora Screwless Snap-On Wal...   \n",
       "20184  South Shore Axess Small 2-Door Storage Cabinet...   \n",
       "20185       Patriotic Flip Flop Ornament Assortment of 2   \n",
       "20186  Cybrtrayd Life of the Party A116 Horse Chocola...   \n",
       "20187  4 Light Track Lighting Wall &amp; Ceiling Moun...   \n",
       "\n",
       "                       category  \n",
       "0                          None  \n",
       "1                Home & Kitchen  \n",
       "2      Tools & Home Improvement  \n",
       "3      Tools & Home Improvement  \n",
       "4               Office Products  \n",
       "...                         ...  \n",
       "20183                      None  \n",
       "20184                      None  \n",
       "20185            Home & Kitchen  \n",
       "20186                      None  \n",
       "20187  Tools & Home Improvement  \n",
       "\n",
       "[20188 rows x 2 columns]"
      ]
     },
     "execution_count": 3,
     "metadata": {},
     "output_type": "execute_result"
    }
   ],
   "source": [
    "ecommerce_data"
   ]
  },
  {
   "cell_type": "markdown",
   "id": "c49055e3-4a26-4261-8284-b8197b02f747",
   "metadata": {},
   "source": [
    "# Data Definition"
   ]
  },
  {
   "cell_type": "markdown",
   "id": "d941e44d-1176-4a1d-8062-004ad423e509",
   "metadata": {},
   "source": [
    "Data yang digunakan dalam analisis ini mencakup informasi tentang nama produk dan kategori produk yang diambil dari dataset berikut:\n",
    "\n",
    "Sumber Data: [Predict Categories of Items using NLP](https://www.kaggle.com/datasets/shivam1298/predict-categories-of-items-using-nlp)\n",
    "\n",
    "Dataset ini terdiri dari 20.188 baris data dengan dua kolom utama:\n",
    "\n",
    "1. **title**: Kolom ini berisi nama produk yang dijual di platform e-commerce.\n",
    "2. **category**: Kolom ini berisi kategori atau klasifikasi produk yang sesuai dengan produk tersebut."
   ]
  },
  {
   "cell_type": "raw",
   "id": "b0a111c0-2470-4f3d-9ee2-8ec1d6f28db9",
   "metadata": {},
   "source": [
    "title            :\n",
    "    [object]\n",
    "    [keseluruhan nama product yang dijual pada eccomerce]\n",
    "    Kolom ini berisi nama produk yang dijual di platform e-commerce.\n",
    "\n",
    "category         :\n",
    "    [object]\n",
    "    ['None', 'Home & Kitchen', 'Tools & Home Improvement',\n",
    "    'Office Products', 'Grocery & Gourmet Food', 'Electronics',\n",
    "    'Industrial & Scientific']\n",
    "    Kolom ini berisi nama produk yang dijual di platform e-commerce."
   ]
  },
  {
   "cell_type": "markdown",
   "id": "545bd350-d128-4575-919a-226659ab598a",
   "metadata": {},
   "source": [
    "# Data Validation"
   ]
  },
  {
   "cell_type": "code",
   "execution_count": 4,
   "id": "bd15d36b-2c46-406f-b630-74e1bfd2ec32",
   "metadata": {},
   "outputs": [
    {
     "name": "stdout",
     "output_type": "stream",
     "text": [
      "<class 'pandas.core.frame.DataFrame'>\n",
      "RangeIndex: 20188 entries, 0 to 20187\n",
      "Data columns (total 2 columns):\n",
      " #   Column    Non-Null Count  Dtype \n",
      "---  ------    --------------  ----- \n",
      " 0   title     20188 non-null  object\n",
      " 1   category  20188 non-null  object\n",
      "dtypes: object(2)\n",
      "memory usage: 315.6+ KB\n"
     ]
    }
   ],
   "source": [
    "#Check informasi data\n",
    "ecommerce_data.info()"
   ]
  },
  {
   "cell_type": "code",
   "execution_count": 5,
   "id": "bb7c30a8-33ac-474b-b12f-62bfb7593cd9",
   "metadata": {},
   "outputs": [
    {
     "data": {
      "text/plain": [
       "title       0\n",
       "category    0\n",
       "dtype: int64"
      ]
     },
     "execution_count": 5,
     "metadata": {},
     "output_type": "execute_result"
    }
   ],
   "source": [
    "#Menghitung nilai null pada kolom\n",
    "ecommerce_data.isnull().sum()"
   ]
  },
  {
   "cell_type": "code",
   "execution_count": 6,
   "id": "d407d65e-3539-4ccf-a99f-e67a701b6d7a",
   "metadata": {},
   "outputs": [
    {
     "data": {
      "text/plain": [
       "0"
      ]
     },
     "execution_count": 6,
     "metadata": {},
     "output_type": "execute_result"
    }
   ],
   "source": [
    "#Check data duplicate\n",
    "ecommerce_data.duplicated().sum()"
   ]
  },
  {
   "cell_type": "code",
   "execution_count": 7,
   "id": "0efeb4c4-3517-4b2d-843c-56d7232ade55",
   "metadata": {},
   "outputs": [
    {
     "data": {
      "text/plain": [
       "None                        10123\n",
       "Home & Kitchen               4960\n",
       "Tools & Home Improvement     2080\n",
       "Office Products              1144\n",
       "Grocery & Gourmet Food       1102\n",
       "Industrial & Scientific       588\n",
       "Electronics                   191\n",
       "Name: category, dtype: int64"
      ]
     },
     "execution_count": 7,
     "metadata": {},
     "output_type": "execute_result"
    }
   ],
   "source": [
    "## Cek masing masing proporsi data\n",
    "ecommerce_data['category'].value_counts()"
   ]
  },
  {
   "cell_type": "markdown",
   "id": "978178c8-efad-41c4-9224-c82a90c62868",
   "metadata": {},
   "source": [
    "Menghilangkan baris pada label None karena setelah ditelusuri memang tidak memiliki kategori yang spesifik dan justru mirip dengan label yang sudah ada"
   ]
  },
  {
   "cell_type": "code",
   "execution_count": 8,
   "id": "289badd1-1fae-449f-8808-88e1b3d2a957",
   "metadata": {},
   "outputs": [],
   "source": [
    "## drop baris dengan label None\n",
    "ecommerce_data.drop(ecommerce_data[ecommerce_data.category=='None'].index, inplace=True)"
   ]
  },
  {
   "cell_type": "markdown",
   "id": "3336c213-922a-4070-aa6b-7d2ef7b146cc",
   "metadata": {},
   "source": [
    "# Data Splitting\n",
    "Melakukan spliting data untuk memisahkan set training, set validation dan set test yang terbagi atas variabel x dan y"
   ]
  },
  {
   "cell_type": "code",
   "execution_count": 9,
   "id": "512b5a73-5dc0-4630-bec1-f0937b6c342e",
   "metadata": {},
   "outputs": [
    {
     "data": {
      "text/html": [
       "<div>\n",
       "<style scoped>\n",
       "    .dataframe tbody tr th:only-of-type {\n",
       "        vertical-align: middle;\n",
       "    }\n",
       "\n",
       "    .dataframe tbody tr th {\n",
       "        vertical-align: top;\n",
       "    }\n",
       "\n",
       "    .dataframe thead th {\n",
       "        text-align: right;\n",
       "    }\n",
       "</style>\n",
       "<table border=\"1\" class=\"dataframe\">\n",
       "  <thead>\n",
       "    <tr style=\"text-align: right;\">\n",
       "      <th></th>\n",
       "      <th>title</th>\n",
       "      <th>category</th>\n",
       "    </tr>\n",
       "  </thead>\n",
       "  <tbody>\n",
       "    <tr>\n",
       "      <th>1</th>\n",
       "      <td>Home Essentials Blue Floral Glass Vintage Styl...</td>\n",
       "      <td>Home &amp; Kitchen</td>\n",
       "    </tr>\n",
       "    <tr>\n",
       "      <th>2</th>\n",
       "      <td>Cooper Wiring Quiet Toggle Switch Single Pole ...</td>\n",
       "      <td>Tools &amp; Home Improvement</td>\n",
       "    </tr>\n",
       "    <tr>\n",
       "      <th>3</th>\n",
       "      <td>Baseboarders&amp;reg; Wall Brackets</td>\n",
       "      <td>Tools &amp; Home Improvement</td>\n",
       "    </tr>\n",
       "    <tr>\n",
       "      <th>4</th>\n",
       "      <td>The Great Wave Off Kanagawa Custom Rectangle M...</td>\n",
       "      <td>Office Products</td>\n",
       "    </tr>\n",
       "    <tr>\n",
       "      <th>5</th>\n",
       "      <td>Nemcor Pittsburgh Penguins NHL #1 Ultimate Fan...</td>\n",
       "      <td>Home &amp; Kitchen</td>\n",
       "    </tr>\n",
       "    <tr>\n",
       "      <th>...</th>\n",
       "      <td>...</td>\n",
       "      <td>...</td>\n",
       "    </tr>\n",
       "    <tr>\n",
       "      <th>20175</th>\n",
       "      <td>Curtain Chic Supple Microfiber Cumberbund Vala...</td>\n",
       "      <td>Home &amp; Kitchen</td>\n",
       "    </tr>\n",
       "    <tr>\n",
       "      <th>20176</th>\n",
       "      <td>Jack &amp;amp; Jason's Pancake &amp;amp; Waffle Mix - ...</td>\n",
       "      <td>Grocery &amp; Gourmet Food</td>\n",
       "    </tr>\n",
       "    <tr>\n",
       "      <th>20178</th>\n",
       "      <td>4 Swivel Casters 4&amp;quot; Rubber Double Brake B...</td>\n",
       "      <td>Industrial &amp; Scientific</td>\n",
       "    </tr>\n",
       "    <tr>\n",
       "      <th>20185</th>\n",
       "      <td>Patriotic Flip Flop Ornament Assortment of 2</td>\n",
       "      <td>Home &amp; Kitchen</td>\n",
       "    </tr>\n",
       "    <tr>\n",
       "      <th>20187</th>\n",
       "      <td>4 Light Track Lighting Wall &amp;amp; Ceiling Moun...</td>\n",
       "      <td>Tools &amp; Home Improvement</td>\n",
       "    </tr>\n",
       "  </tbody>\n",
       "</table>\n",
       "<p>10065 rows × 2 columns</p>\n",
       "</div>"
      ],
      "text/plain": [
       "                                                   title  \\\n",
       "1      Home Essentials Blue Floral Glass Vintage Styl...   \n",
       "2      Cooper Wiring Quiet Toggle Switch Single Pole ...   \n",
       "3                        Baseboarders&reg; Wall Brackets   \n",
       "4      The Great Wave Off Kanagawa Custom Rectangle M...   \n",
       "5      Nemcor Pittsburgh Penguins NHL #1 Ultimate Fan...   \n",
       "...                                                  ...   \n",
       "20175  Curtain Chic Supple Microfiber Cumberbund Vala...   \n",
       "20176  Jack &amp; Jason's Pancake &amp; Waffle Mix - ...   \n",
       "20178  4 Swivel Casters 4&quot; Rubber Double Brake B...   \n",
       "20185       Patriotic Flip Flop Ornament Assortment of 2   \n",
       "20187  4 Light Track Lighting Wall &amp; Ceiling Moun...   \n",
       "\n",
       "                       category  \n",
       "1                Home & Kitchen  \n",
       "2      Tools & Home Improvement  \n",
       "3      Tools & Home Improvement  \n",
       "4               Office Products  \n",
       "5                Home & Kitchen  \n",
       "...                         ...  \n",
       "20175            Home & Kitchen  \n",
       "20176    Grocery & Gourmet Food  \n",
       "20178   Industrial & Scientific  \n",
       "20185            Home & Kitchen  \n",
       "20187  Tools & Home Improvement  \n",
       "\n",
       "[10065 rows x 2 columns]"
      ]
     },
     "execution_count": 9,
     "metadata": {},
     "output_type": "execute_result"
    }
   ],
   "source": [
    "ecommerce_data"
   ]
  },
  {
   "cell_type": "code",
   "execution_count": 10,
   "id": "3a81306b-765a-496a-9cad-5f86406be618",
   "metadata": {},
   "outputs": [
    {
     "data": {
      "text/plain": [
       "(10065, 2)"
      ]
     },
     "execution_count": 10,
     "metadata": {},
     "output_type": "execute_result"
    }
   ],
   "source": [
    "ecommerce_data.shape"
   ]
  },
  {
   "cell_type": "code",
   "execution_count": 11,
   "id": "a206d8e1-0128-469f-a880-20d179cd4162",
   "metadata": {},
   "outputs": [],
   "source": [
    "# Pemisahan Variabel X dan Y\n",
    "X = ecommerce_data.drop(columns = \"category\")\n",
    "y = ecommerce_data[\"category\"]"
   ]
  },
  {
   "cell_type": "code",
   "execution_count": 12,
   "id": "b2f2a804-9c24-4722-9c4d-d5ee7be3e309",
   "metadata": {},
   "outputs": [
    {
     "data": {
      "text/html": [
       "<div>\n",
       "<style scoped>\n",
       "    .dataframe tbody tr th:only-of-type {\n",
       "        vertical-align: middle;\n",
       "    }\n",
       "\n",
       "    .dataframe tbody tr th {\n",
       "        vertical-align: top;\n",
       "    }\n",
       "\n",
       "    .dataframe thead th {\n",
       "        text-align: right;\n",
       "    }\n",
       "</style>\n",
       "<table border=\"1\" class=\"dataframe\">\n",
       "  <thead>\n",
       "    <tr style=\"text-align: right;\">\n",
       "      <th></th>\n",
       "      <th>title</th>\n",
       "    </tr>\n",
       "  </thead>\n",
       "  <tbody>\n",
       "    <tr>\n",
       "      <th>1</th>\n",
       "      <td>Home Essentials Blue Floral Glass Vintage Styl...</td>\n",
       "    </tr>\n",
       "    <tr>\n",
       "      <th>2</th>\n",
       "      <td>Cooper Wiring Quiet Toggle Switch Single Pole ...</td>\n",
       "    </tr>\n",
       "    <tr>\n",
       "      <th>3</th>\n",
       "      <td>Baseboarders&amp;reg; Wall Brackets</td>\n",
       "    </tr>\n",
       "    <tr>\n",
       "      <th>4</th>\n",
       "      <td>The Great Wave Off Kanagawa Custom Rectangle M...</td>\n",
       "    </tr>\n",
       "    <tr>\n",
       "      <th>5</th>\n",
       "      <td>Nemcor Pittsburgh Penguins NHL #1 Ultimate Fan...</td>\n",
       "    </tr>\n",
       "    <tr>\n",
       "      <th>...</th>\n",
       "      <td>...</td>\n",
       "    </tr>\n",
       "    <tr>\n",
       "      <th>20175</th>\n",
       "      <td>Curtain Chic Supple Microfiber Cumberbund Vala...</td>\n",
       "    </tr>\n",
       "    <tr>\n",
       "      <th>20176</th>\n",
       "      <td>Jack &amp;amp; Jason's Pancake &amp;amp; Waffle Mix - ...</td>\n",
       "    </tr>\n",
       "    <tr>\n",
       "      <th>20178</th>\n",
       "      <td>4 Swivel Casters 4&amp;quot; Rubber Double Brake B...</td>\n",
       "    </tr>\n",
       "    <tr>\n",
       "      <th>20185</th>\n",
       "      <td>Patriotic Flip Flop Ornament Assortment of 2</td>\n",
       "    </tr>\n",
       "    <tr>\n",
       "      <th>20187</th>\n",
       "      <td>4 Light Track Lighting Wall &amp;amp; Ceiling Moun...</td>\n",
       "    </tr>\n",
       "  </tbody>\n",
       "</table>\n",
       "<p>10065 rows × 1 columns</p>\n",
       "</div>"
      ],
      "text/plain": [
       "                                                   title\n",
       "1      Home Essentials Blue Floral Glass Vintage Styl...\n",
       "2      Cooper Wiring Quiet Toggle Switch Single Pole ...\n",
       "3                        Baseboarders&reg; Wall Brackets\n",
       "4      The Great Wave Off Kanagawa Custom Rectangle M...\n",
       "5      Nemcor Pittsburgh Penguins NHL #1 Ultimate Fan...\n",
       "...                                                  ...\n",
       "20175  Curtain Chic Supple Microfiber Cumberbund Vala...\n",
       "20176  Jack &amp; Jason's Pancake &amp; Waffle Mix - ...\n",
       "20178  4 Swivel Casters 4&quot; Rubber Double Brake B...\n",
       "20185       Patriotic Flip Flop Ornament Assortment of 2\n",
       "20187  4 Light Track Lighting Wall &amp; Ceiling Moun...\n",
       "\n",
       "[10065 rows x 1 columns]"
      ]
     },
     "execution_count": 12,
     "metadata": {},
     "output_type": "execute_result"
    }
   ],
   "source": [
    "X "
   ]
  },
  {
   "cell_type": "code",
   "execution_count": 13,
   "id": "61a9eb39-5ab5-4455-8f2f-c3856f979128",
   "metadata": {},
   "outputs": [
    {
     "data": {
      "text/plain": [
       "1                  Home & Kitchen\n",
       "2        Tools & Home Improvement\n",
       "3        Tools & Home Improvement\n",
       "4                 Office Products\n",
       "5                  Home & Kitchen\n",
       "                   ...           \n",
       "20175              Home & Kitchen\n",
       "20176      Grocery & Gourmet Food\n",
       "20178     Industrial & Scientific\n",
       "20185              Home & Kitchen\n",
       "20187    Tools & Home Improvement\n",
       "Name: category, Length: 10065, dtype: object"
      ]
     },
     "execution_count": 13,
     "metadata": {},
     "output_type": "execute_result"
    }
   ],
   "source": [
    "y"
   ]
  },
  {
   "cell_type": "code",
   "execution_count": 14,
   "id": "267ecaa1-c0c3-4cd2-8651-f8cae454ca9d",
   "metadata": {},
   "outputs": [],
   "source": [
    "#Split Data 80% training 20% testing\n",
    "X_train, X_test, y_train, y_test = train_test_split(X, y,\n",
    "                                                    test_size = 0.2,\n",
    "                                                    random_state = 123)"
   ]
  },
  {
   "cell_type": "code",
   "execution_count": 15,
   "id": "5ad5017a-dfbd-42a5-bfbd-09b5d8ff3ede",
   "metadata": {},
   "outputs": [
    {
     "data": {
      "text/html": [
       "<div>\n",
       "<style scoped>\n",
       "    .dataframe tbody tr th:only-of-type {\n",
       "        vertical-align: middle;\n",
       "    }\n",
       "\n",
       "    .dataframe tbody tr th {\n",
       "        vertical-align: top;\n",
       "    }\n",
       "\n",
       "    .dataframe thead th {\n",
       "        text-align: right;\n",
       "    }\n",
       "</style>\n",
       "<table border=\"1\" class=\"dataframe\">\n",
       "  <thead>\n",
       "    <tr style=\"text-align: right;\">\n",
       "      <th></th>\n",
       "      <th>title</th>\n",
       "    </tr>\n",
       "  </thead>\n",
       "  <tbody>\n",
       "    <tr>\n",
       "      <th>5544</th>\n",
       "      <td>Imax 84532 Tenor Large Recycled Glass Vase</td>\n",
       "    </tr>\n",
       "    <tr>\n",
       "      <th>3120</th>\n",
       "      <td>Darice 6202-113 10-Light 5-Point Star Tree Top...</td>\n",
       "    </tr>\n",
       "    <tr>\n",
       "      <th>1387</th>\n",
       "      <td>5 Piece Full Size Frozen Bedding Set Includes ...</td>\n",
       "    </tr>\n",
       "    <tr>\n",
       "      <th>1075</th>\n",
       "      <td>New Star Foodservice Knives (Set of 12)</td>\n",
       "    </tr>\n",
       "    <tr>\n",
       "      <th>13665</th>\n",
       "      <td>Mr &amp;amp; Mrs T Bold &amp;amp; Spicy Bloody Mary Mi...</td>\n",
       "    </tr>\n",
       "    <tr>\n",
       "      <th>...</th>\n",
       "      <td>...</td>\n",
       "    </tr>\n",
       "    <tr>\n",
       "      <th>19690</th>\n",
       "      <td>Aviditi MD24126 Multi-Depth Corrugated Box, 24...</td>\n",
       "    </tr>\n",
       "    <tr>\n",
       "      <th>15580</th>\n",
       "      <td>Perfume Studio&amp;reg; Graduated Glass Dropper Bo...</td>\n",
       "    </tr>\n",
       "    <tr>\n",
       "      <th>10534</th>\n",
       "      <td>Brother HL-L2340DW Compact Laser Printer, Mono...</td>\n",
       "    </tr>\n",
       "    <tr>\n",
       "      <th>2793</th>\n",
       "      <td>Hello Kitty Wastebasket - Garbage Can</td>\n",
       "    </tr>\n",
       "    <tr>\n",
       "      <th>7250</th>\n",
       "      <td>Newport Storage Platform Bed Finish: Tan, Size...</td>\n",
       "    </tr>\n",
       "  </tbody>\n",
       "</table>\n",
       "<p>8052 rows × 1 columns</p>\n",
       "</div>"
      ],
      "text/plain": [
       "                                                   title\n",
       "5544          Imax 84532 Tenor Large Recycled Glass Vase\n",
       "3120   Darice 6202-113 10-Light 5-Point Star Tree Top...\n",
       "1387   5 Piece Full Size Frozen Bedding Set Includes ...\n",
       "1075             New Star Foodservice Knives (Set of 12)\n",
       "13665  Mr &amp; Mrs T Bold &amp; Spicy Bloody Mary Mi...\n",
       "...                                                  ...\n",
       "19690  Aviditi MD24126 Multi-Depth Corrugated Box, 24...\n",
       "15580  Perfume Studio&reg; Graduated Glass Dropper Bo...\n",
       "10534  Brother HL-L2340DW Compact Laser Printer, Mono...\n",
       "2793               Hello Kitty Wastebasket - Garbage Can\n",
       "7250   Newport Storage Platform Bed Finish: Tan, Size...\n",
       "\n",
       "[8052 rows x 1 columns]"
      ]
     },
     "execution_count": 15,
     "metadata": {},
     "output_type": "execute_result"
    }
   ],
   "source": [
    "X_train"
   ]
  },
  {
   "cell_type": "code",
   "execution_count": 16,
   "id": "7ae2d293-4230-41e6-9da9-860b1d81d9cf",
   "metadata": {},
   "outputs": [
    {
     "data": {
      "text/html": [
       "<div>\n",
       "<style scoped>\n",
       "    .dataframe tbody tr th:only-of-type {\n",
       "        vertical-align: middle;\n",
       "    }\n",
       "\n",
       "    .dataframe tbody tr th {\n",
       "        vertical-align: top;\n",
       "    }\n",
       "\n",
       "    .dataframe thead th {\n",
       "        text-align: right;\n",
       "    }\n",
       "</style>\n",
       "<table border=\"1\" class=\"dataframe\">\n",
       "  <thead>\n",
       "    <tr style=\"text-align: right;\">\n",
       "      <th></th>\n",
       "      <th>title</th>\n",
       "    </tr>\n",
       "  </thead>\n",
       "  <tbody>\n",
       "    <tr>\n",
       "      <th>11527</th>\n",
       "      <td>Dallmayr Dyawa Antara Ground Coffee Gift Box 5...</td>\n",
       "    </tr>\n",
       "    <tr>\n",
       "      <th>16233</th>\n",
       "      <td>Enclosures, Boxes, &amp;amp; Cases 3.15 x 1.58 x 0...</td>\n",
       "    </tr>\n",
       "    <tr>\n",
       "      <th>742</th>\n",
       "      <td>Custom Size Runner Black Solid Single Color Pl...</td>\n",
       "    </tr>\n",
       "    <tr>\n",
       "      <th>9797</th>\n",
       "      <td>AT&amp;amp;T EL52210 2-Handset Cordless Answering ...</td>\n",
       "    </tr>\n",
       "    <tr>\n",
       "      <th>7806</th>\n",
       "      <td>36&amp;quot;w X 24&amp;quot;h Steel Return Air Grilles...</td>\n",
       "    </tr>\n",
       "    <tr>\n",
       "      <th>...</th>\n",
       "      <td>...</td>\n",
       "    </tr>\n",
       "    <tr>\n",
       "      <th>15079</th>\n",
       "      <td>Santa Fe Rx Dehumidifier 16 X 20 X 2&amp;quot; Mer...</td>\n",
       "    </tr>\n",
       "    <tr>\n",
       "      <th>7689</th>\n",
       "      <td>6-32 x 1/4 Ivory Switch Plate Screw (25 pieces)</td>\n",
       "    </tr>\n",
       "    <tr>\n",
       "      <th>9702</th>\n",
       "      <td>WGI Love Table Top Sign Decor</td>\n",
       "    </tr>\n",
       "    <tr>\n",
       "      <th>16814</th>\n",
       "      <td>NMC HB13 LOCKOUT TAGOUT AN OPEN AND SHUT CASE ...</td>\n",
       "    </tr>\n",
       "    <tr>\n",
       "      <th>751</th>\n",
       "      <td>Storex Pencil Case, 8.38 x 5.63 x 2.5 Inches, ...</td>\n",
       "    </tr>\n",
       "  </tbody>\n",
       "</table>\n",
       "<p>2013 rows × 1 columns</p>\n",
       "</div>"
      ],
      "text/plain": [
       "                                                   title\n",
       "11527  Dallmayr Dyawa Antara Ground Coffee Gift Box 5...\n",
       "16233  Enclosures, Boxes, &amp; Cases 3.15 x 1.58 x 0...\n",
       "742    Custom Size Runner Black Solid Single Color Pl...\n",
       "9797   AT&amp;T EL52210 2-Handset Cordless Answering ...\n",
       "7806   36&quot;w X 24&quot;h Steel Return Air Grilles...\n",
       "...                                                  ...\n",
       "15079  Santa Fe Rx Dehumidifier 16 X 20 X 2&quot; Mer...\n",
       "7689     6-32 x 1/4 Ivory Switch Plate Screw (25 pieces)\n",
       "9702                       WGI Love Table Top Sign Decor\n",
       "16814  NMC HB13 LOCKOUT TAGOUT AN OPEN AND SHUT CASE ...\n",
       "751    Storex Pencil Case, 8.38 x 5.63 x 2.5 Inches, ...\n",
       "\n",
       "[2013 rows x 1 columns]"
      ]
     },
     "execution_count": 16,
     "metadata": {},
     "output_type": "execute_result"
    }
   ],
   "source": [
    "X_test"
   ]
  },
  {
   "cell_type": "code",
   "execution_count": 17,
   "id": "e1e331c6-fc7b-4e04-8c68-a1981928059c",
   "metadata": {},
   "outputs": [
    {
     "data": {
      "text/plain": [
       "5544              Home & Kitchen\n",
       "3120              Home & Kitchen\n",
       "1387              Home & Kitchen\n",
       "1075              Home & Kitchen\n",
       "13665     Grocery & Gourmet Food\n",
       "                  ...           \n",
       "19690            Office Products\n",
       "15580    Industrial & Scientific\n",
       "10534            Office Products\n",
       "2793              Home & Kitchen\n",
       "7250              Home & Kitchen\n",
       "Name: category, Length: 8052, dtype: object"
      ]
     },
     "execution_count": 17,
     "metadata": {},
     "output_type": "execute_result"
    }
   ],
   "source": [
    "y_train"
   ]
  },
  {
   "cell_type": "code",
   "execution_count": 18,
   "id": "946d8e51-0174-4a0e-b940-f641b6d745f7",
   "metadata": {},
   "outputs": [
    {
     "data": {
      "text/plain": [
       "11527      Grocery & Gourmet Food\n",
       "16233     Industrial & Scientific\n",
       "742                Home & Kitchen\n",
       "9797              Office Products\n",
       "7806     Tools & Home Improvement\n",
       "                   ...           \n",
       "15079    Tools & Home Improvement\n",
       "7689     Tools & Home Improvement\n",
       "9702               Home & Kitchen\n",
       "16814     Industrial & Scientific\n",
       "751               Office Products\n",
       "Name: category, Length: 2013, dtype: object"
      ]
     },
     "execution_count": 18,
     "metadata": {},
     "output_type": "execute_result"
    }
   ],
   "source": [
    "y_test"
   ]
  },
  {
   "cell_type": "code",
   "execution_count": 19,
   "id": "e393ac47-2ad2-41e0-bf07-9012754f8aee",
   "metadata": {},
   "outputs": [],
   "source": [
    "# Split data train menjadi train dan validation set\n",
    "X_test, X_valid, y_test, y_valid = train_test_split(X_test, y_test, \n",
    "                                                    test_size=0.4, \n",
    "                                                    random_state=42,\n",
    "                                                    stratify = y_test\n",
    "                                                   )"
   ]
  },
  {
   "cell_type": "code",
   "execution_count": 20,
   "id": "7d541362-2667-4fd6-b586-96a7b64bba2e",
   "metadata": {},
   "outputs": [
    {
     "data": {
      "text/html": [
       "<div>\n",
       "<style scoped>\n",
       "    .dataframe tbody tr th:only-of-type {\n",
       "        vertical-align: middle;\n",
       "    }\n",
       "\n",
       "    .dataframe tbody tr th {\n",
       "        vertical-align: top;\n",
       "    }\n",
       "\n",
       "    .dataframe thead th {\n",
       "        text-align: right;\n",
       "    }\n",
       "</style>\n",
       "<table border=\"1\" class=\"dataframe\">\n",
       "  <thead>\n",
       "    <tr style=\"text-align: right;\">\n",
       "      <th></th>\n",
       "      <th>title</th>\n",
       "    </tr>\n",
       "  </thead>\n",
       "  <tbody>\n",
       "    <tr>\n",
       "      <th>16393</th>\n",
       "      <td>Milwaukee 8986-20 Variable Temperature Heat Gun</td>\n",
       "    </tr>\n",
       "    <tr>\n",
       "      <th>11232</th>\n",
       "      <td>Glen Lochey - 4 Ounce</td>\n",
       "    </tr>\n",
       "    <tr>\n",
       "      <th>7152</th>\n",
       "      <td>Juvale Faux, Folding, Wooden, Leather, Storage...</td>\n",
       "    </tr>\n",
       "    <tr>\n",
       "      <th>19231</th>\n",
       "      <td>BirthdayExpress Pocoyo Party Supplies - Revers...</td>\n",
       "    </tr>\n",
       "    <tr>\n",
       "      <th>17346</th>\n",
       "      <td>1/8&amp;quot; x 25' White Shock Bungee Rubber Rope...</td>\n",
       "    </tr>\n",
       "    <tr>\n",
       "      <th>...</th>\n",
       "      <td>...</td>\n",
       "    </tr>\n",
       "    <tr>\n",
       "      <th>127</th>\n",
       "      <td>Winsome Wood 3-Tier Bookcase, Espresso</td>\n",
       "    </tr>\n",
       "    <tr>\n",
       "      <th>18337</th>\n",
       "      <td>Maxwell House Iced Coffee Concentrate, Vanilla...</td>\n",
       "    </tr>\n",
       "    <tr>\n",
       "      <th>14312</th>\n",
       "      <td>4EVER Candle Red Apple, Wedding Birthday Chris...</td>\n",
       "    </tr>\n",
       "    <tr>\n",
       "      <th>12403</th>\n",
       "      <td>Warrior Flexible WP-9FV SR-9FV TIG Welding Tor...</td>\n",
       "    </tr>\n",
       "    <tr>\n",
       "      <th>8794</th>\n",
       "      <td>First Alert FG250B Dual Ionization Smoke Alarm...</td>\n",
       "    </tr>\n",
       "  </tbody>\n",
       "</table>\n",
       "<p>1207 rows × 1 columns</p>\n",
       "</div>"
      ],
      "text/plain": [
       "                                                   title\n",
       "16393    Milwaukee 8986-20 Variable Temperature Heat Gun\n",
       "11232                              Glen Lochey - 4 Ounce\n",
       "7152   Juvale Faux, Folding, Wooden, Leather, Storage...\n",
       "19231  BirthdayExpress Pocoyo Party Supplies - Revers...\n",
       "17346  1/8&quot; x 25' White Shock Bungee Rubber Rope...\n",
       "...                                                  ...\n",
       "127               Winsome Wood 3-Tier Bookcase, Espresso\n",
       "18337  Maxwell House Iced Coffee Concentrate, Vanilla...\n",
       "14312  4EVER Candle Red Apple, Wedding Birthday Chris...\n",
       "12403  Warrior Flexible WP-9FV SR-9FV TIG Welding Tor...\n",
       "8794   First Alert FG250B Dual Ionization Smoke Alarm...\n",
       "\n",
       "[1207 rows x 1 columns]"
      ]
     },
     "execution_count": 20,
     "metadata": {},
     "output_type": "execute_result"
    }
   ],
   "source": [
    "X_test"
   ]
  },
  {
   "cell_type": "code",
   "execution_count": 21,
   "id": "5ca8d304-7fbf-4560-8470-fe37b68ecba2",
   "metadata": {},
   "outputs": [
    {
     "data": {
      "text/html": [
       "<div>\n",
       "<style scoped>\n",
       "    .dataframe tbody tr th:only-of-type {\n",
       "        vertical-align: middle;\n",
       "    }\n",
       "\n",
       "    .dataframe tbody tr th {\n",
       "        vertical-align: top;\n",
       "    }\n",
       "\n",
       "    .dataframe thead th {\n",
       "        text-align: right;\n",
       "    }\n",
       "</style>\n",
       "<table border=\"1\" class=\"dataframe\">\n",
       "  <thead>\n",
       "    <tr style=\"text-align: right;\">\n",
       "      <th></th>\n",
       "      <th>title</th>\n",
       "    </tr>\n",
       "  </thead>\n",
       "  <tbody>\n",
       "    <tr>\n",
       "      <th>1867</th>\n",
       "      <td>Large Barber Shop w/Pole Neon Sign</td>\n",
       "    </tr>\n",
       "    <tr>\n",
       "      <th>14588</th>\n",
       "      <td>Hortense B. Hewitt Cake Top Wedding Accessorie...</td>\n",
       "    </tr>\n",
       "    <tr>\n",
       "      <th>18708</th>\n",
       "      <td>Golden State Art, Cream Photo Wood Collage Fra...</td>\n",
       "    </tr>\n",
       "    <tr>\n",
       "      <th>8865</th>\n",
       "      <td>Marvel Ultimate Spider-Man 3-Piece Lunch Box Set</td>\n",
       "    </tr>\n",
       "    <tr>\n",
       "      <th>9777</th>\n",
       "      <td>Reusable Sandwich and Snack Bag (3 Piece Set) ...</td>\n",
       "    </tr>\n",
       "    <tr>\n",
       "      <th>...</th>\n",
       "      <td>...</td>\n",
       "    </tr>\n",
       "    <tr>\n",
       "      <th>9323</th>\n",
       "      <td>AIRDODO European Decorative Style 70-inch By 9...</td>\n",
       "    </tr>\n",
       "    <tr>\n",
       "      <th>13425</th>\n",
       "      <td>Refillable Grill lighter (Handi-Hand)</td>\n",
       "    </tr>\n",
       "    <tr>\n",
       "      <th>9967</th>\n",
       "      <td>Attack Plaque Magnet T-Rex</td>\n",
       "    </tr>\n",
       "    <tr>\n",
       "      <th>2174</th>\n",
       "      <td>The Sharper Image 3-Piece Multitool Kit, Blue</td>\n",
       "    </tr>\n",
       "    <tr>\n",
       "      <th>4244</th>\n",
       "      <td>Doctor Who - TV Show Poster &amp;amp; Rubber Keych...</td>\n",
       "    </tr>\n",
       "  </tbody>\n",
       "</table>\n",
       "<p>806 rows × 1 columns</p>\n",
       "</div>"
      ],
      "text/plain": [
       "                                                   title\n",
       "1867                  Large Barber Shop w/Pole Neon Sign\n",
       "14588  Hortense B. Hewitt Cake Top Wedding Accessorie...\n",
       "18708  Golden State Art, Cream Photo Wood Collage Fra...\n",
       "8865    Marvel Ultimate Spider-Man 3-Piece Lunch Box Set\n",
       "9777   Reusable Sandwich and Snack Bag (3 Piece Set) ...\n",
       "...                                                  ...\n",
       "9323   AIRDODO European Decorative Style 70-inch By 9...\n",
       "13425              Refillable Grill lighter (Handi-Hand)\n",
       "9967                          Attack Plaque Magnet T-Rex\n",
       "2174       The Sharper Image 3-Piece Multitool Kit, Blue\n",
       "4244   Doctor Who - TV Show Poster &amp; Rubber Keych...\n",
       "\n",
       "[806 rows x 1 columns]"
      ]
     },
     "execution_count": 21,
     "metadata": {},
     "output_type": "execute_result"
    }
   ],
   "source": [
    "X_valid"
   ]
  },
  {
   "cell_type": "code",
   "execution_count": 22,
   "id": "d12f0be9-7e1e-4e6b-8ae9-6b49b5266fbb",
   "metadata": {},
   "outputs": [
    {
     "data": {
      "text/plain": [
       "16393    Tools & Home Improvement\n",
       "11232      Grocery & Gourmet Food\n",
       "7152               Home & Kitchen\n",
       "19231              Home & Kitchen\n",
       "17346    Tools & Home Improvement\n",
       "                   ...           \n",
       "127                Home & Kitchen\n",
       "18337      Grocery & Gourmet Food\n",
       "14312              Home & Kitchen\n",
       "12403    Tools & Home Improvement\n",
       "8794     Tools & Home Improvement\n",
       "Name: category, Length: 1207, dtype: object"
      ]
     },
     "execution_count": 22,
     "metadata": {},
     "output_type": "execute_result"
    }
   ],
   "source": [
    "y_test"
   ]
  },
  {
   "cell_type": "code",
   "execution_count": 23,
   "id": "cd5499c8-c929-4ae0-bafa-439586db2940",
   "metadata": {},
   "outputs": [
    {
     "data": {
      "text/plain": [
       "1867     Tools & Home Improvement\n",
       "14588      Grocery & Gourmet Food\n",
       "18708              Home & Kitchen\n",
       "8865               Home & Kitchen\n",
       "9777               Home & Kitchen\n",
       "                   ...           \n",
       "9323               Home & Kitchen\n",
       "13425              Home & Kitchen\n",
       "9967               Home & Kitchen\n",
       "2174     Tools & Home Improvement\n",
       "4244               Home & Kitchen\n",
       "Name: category, Length: 806, dtype: object"
      ]
     },
     "execution_count": 23,
     "metadata": {},
     "output_type": "execute_result"
    }
   ],
   "source": [
    "y_valid"
   ]
  },
  {
   "cell_type": "code",
   "execution_count": 24,
   "id": "818b9b7c-14fb-4f07-ab8e-3dbb01f7048f",
   "metadata": {},
   "outputs": [
    {
     "data": {
      "text/plain": [
       "['C:\\\\Users\\\\hp\\\\Portofolio Data Science\\\\6 - E-Commerce Product Classification\\\\dataset\\\\2 - processed\\\\y_test.pkl']"
      ]
     },
     "execution_count": 24,
     "metadata": {},
     "output_type": "execute_result"
    }
   ],
   "source": [
    "joblib.dump(X_train, \"C:\\\\Users\\\\hp\\\\Portofolio Data Science\\\\6 - E-Commerce Product Classification\\\\dataset\\\\2 - processed\\\\X_train.pkl\")\n",
    "joblib.dump(y_train, \"C:\\\\Users\\\\hp\\\\Portofolio Data Science\\\\6 - E-Commerce Product Classification\\\\dataset\\\\2 - processed\\\\y_train.pkl\")\n",
    "joblib.dump(X_valid, \"C:\\\\Users\\\\hp\\\\Portofolio Data Science\\\\6 - E-Commerce Product Classification\\\\dataset\\\\2 - processed\\\\X_valid.pkl\")\n",
    "joblib.dump(y_valid, \"C:\\\\Users\\\\hp\\\\Portofolio Data Science\\\\6 - E-Commerce Product Classification\\\\dataset\\\\2 - processed\\\\y_valid.pkl\")\n",
    "joblib.dump(X_test, \"C:\\\\Users\\\\hp\\\\Portofolio Data Science\\\\6 - E-Commerce Product Classification\\\\dataset\\\\2 - processed\\\\X_test.pkl\")\n",
    "joblib.dump(y_test, \"C:\\\\Users\\\\hp\\\\Portofolio Data Science\\\\6 - E-Commerce Product Classification\\\\dataset\\\\2 - processed\\\\y_test.pkl\")\n",
    "#joblib.dump(train_set, \"C:\\\\Users\\\\hp\\\\Portofolio Data Science\\\\4 - Vehicle Price Prediction\\\\dataset\\\\2 - processed\\\\train_set.pkl\") "
   ]
  },
  {
   "cell_type": "markdown",
   "id": "c43dc792-4c6b-411e-a401-bb0b46f4aa17",
   "metadata": {},
   "source": []
  },
  {
   "cell_type": "code",
   "execution_count": null,
   "id": "e2f2e3be-9d99-4e89-8d3f-ffca40a588e8",
   "metadata": {},
   "outputs": [],
   "source": []
  },
  {
   "cell_type": "code",
   "execution_count": null,
   "id": "f8c03e37-00f4-409e-972e-15bf099748ea",
   "metadata": {},
   "outputs": [],
   "source": []
  }
 ],
 "metadata": {
  "kernelspec": {
   "display_name": "Python 3 (ipykernel)",
   "language": "python",
   "name": "python3"
  },
  "language_info": {
   "codemirror_mode": {
    "name": "ipython",
    "version": 3
   },
   "file_extension": ".py",
   "mimetype": "text/x-python",
   "name": "python",
   "nbconvert_exporter": "python",
   "pygments_lexer": "ipython3",
   "version": "3.10.9"
  }
 },
 "nbformat": 4,
 "nbformat_minor": 5
}
